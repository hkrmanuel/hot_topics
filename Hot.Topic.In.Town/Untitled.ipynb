{
 "cells": [
  {
   "cell_type": "code",
   "execution_count": 1,
   "id": "46391d44-d443-4858-8fbd-dd36db824146",
   "metadata": {},
   "outputs": [],
   "source": [
    "import nltk\n",
    "from nltk.sentiment.vader import SentimentIntensityAnalyzer\n",
    "import pandas as pd\n",
    "import RunSpider as rs\n",
    "\n"
   ]
  },
  {
   "cell_type": "code",
   "execution_count": 2,
   "id": "115e40ed-2e2e-4e74-b423-60dc5a8d276a",
   "metadata": {},
   "outputs": [
    {
     "name": "stderr",
     "output_type": "stream",
     "text": [
      "No model was supplied, defaulted to distilbert/distilbert-base-uncased-finetuned-sst-2-english and revision af0f99b (https://huggingface.co/distilbert/distilbert-base-uncased-finetuned-sst-2-english).\n",
      "Using a pipeline without specifying a model name and revision in production is not recommended.\n"
     ]
    },
    {
     "name": "stdout",
     "output_type": "stream",
     "text": [
      "WARNING:tensorflow:From C:\\Users\\hkrma\\anaconda3\\Lib\\site-packages\\tf_keras\\src\\losses.py:2976: The name tf.losses.sparse_softmax_cross_entropy is deprecated. Please use tf.compat.v1.losses.sparse_softmax_cross_entropy instead.\n",
      "\n"
     ]
    }
   ],
   "source": [
    "from transformers import pipeline\n",
    "\n",
    "# Load the sentiment analysis pipeline\n",
    "sentiment_pipeline = pipeline(\"sentiment-analysis\")"
   ]
  },
  {
   "cell_type": "code",
   "execution_count": 3,
   "id": "a553908c-a9e6-4fea-9d87-25d3644954a0",
   "metadata": {},
   "outputs": [
    {
     "data": {
      "text/plain": [
       "CompletedProcess(args=['python', 'run_spider.py', 'ghana'], returncode=2)"
      ]
     },
     "execution_count": 3,
     "metadata": {},
     "output_type": "execute_result"
    }
   ],
   "source": [
    "import subprocess\n",
    "\n",
    "# Run the spider for 'ghana'\n",
    "subprocess.run([\"python\", \"run_spider.py\", \"ghana\"])\n"
   ]
  },
  {
   "cell_type": "code",
   "execution_count": 4,
   "id": "5c2bf8c7-1788-429a-ba2b-4be2902455af",
   "metadata": {},
   "outputs": [],
   "source": [
    "sia = SentimentIntensityAnalyzer()"
   ]
  },
  {
   "cell_type": "code",
   "execution_count": 8,
   "id": "a2a1d9e9-e1dd-47e7-b41b-00fc3e297daf",
   "metadata": {},
   "outputs": [
    {
     "ename": "NameError",
     "evalue": "name 'newsdata' is not defined",
     "output_type": "error",
     "traceback": [
      "\u001b[1;31m---------------------------------------------------------------------------\u001b[0m",
      "\u001b[1;31mNameError\u001b[0m                                 Traceback (most recent call last)",
      "Cell \u001b[1;32mIn[8], line 1\u001b[0m\n\u001b[1;32m----> 1\u001b[0m newsdata\n",
      "\u001b[1;31mNameError\u001b[0m: name 'newsdata' is not defined"
     ]
    }
   ],
   "source": [
    "newsdata\n"
   ]
  },
  {
   "cell_type": "code",
   "execution_count": 9,
   "id": "61838c6e-c36a-4ae8-9800-84bcd93eeaaa",
   "metadata": {},
   "outputs": [
    {
     "ename": "NameError",
     "evalue": "name 'newsdata' is not defined",
     "output_type": "error",
     "traceback": [
      "\u001b[1;31m---------------------------------------------------------------------------\u001b[0m",
      "\u001b[1;31mNameError\u001b[0m                                 Traceback (most recent call last)",
      "Cell \u001b[1;32mIn[9], line 1\u001b[0m\n\u001b[1;32m----> 1\u001b[0m newsdata \u001b[38;5;241m=\u001b[39m newsdata\u001b[38;5;241m.\u001b[39mdropna()\n",
      "\u001b[1;31mNameError\u001b[0m: name 'newsdata' is not defined"
     ]
    }
   ],
   "source": [
    "newsdata = newsdata.dropna()"
   ]
  },
  {
   "cell_type": "code",
   "execution_count": 10,
   "id": "8aa5e872-59c1-4a78-b2c7-68a7e59eb4a7",
   "metadata": {},
   "outputs": [
    {
     "ename": "NameError",
     "evalue": "name 'newsdata' is not defined",
     "output_type": "error",
     "traceback": [
      "\u001b[1;31m---------------------------------------------------------------------------\u001b[0m",
      "\u001b[1;31mNameError\u001b[0m                                 Traceback (most recent call last)",
      "Cell \u001b[1;32mIn[10], line 1\u001b[0m\n\u001b[1;32m----> 1\u001b[0m newsdata\n",
      "\u001b[1;31mNameError\u001b[0m: name 'newsdata' is not defined"
     ]
    }
   ],
   "source": [
    "newsdata"
   ]
  },
  {
   "cell_type": "code",
   "execution_count": 11,
   "id": "2d1b27ba-371e-4220-86a0-121b8ce21f9c",
   "metadata": {},
   "outputs": [
    {
     "ename": "NameError",
     "evalue": "name 'newsdata' is not defined",
     "output_type": "error",
     "traceback": [
      "\u001b[1;31m---------------------------------------------------------------------------\u001b[0m",
      "\u001b[1;31mNameError\u001b[0m                                 Traceback (most recent call last)",
      "Cell \u001b[1;32mIn[11], line 1\u001b[0m\n\u001b[1;32m----> 1\u001b[0m newsdata_body \u001b[38;5;241m=\u001b[39m newsdata[\u001b[38;5;124m'\u001b[39m\u001b[38;5;124mBODY\u001b[39m\u001b[38;5;124m'\u001b[39m]\n",
      "\u001b[1;31mNameError\u001b[0m: name 'newsdata' is not defined"
     ]
    }
   ],
   "source": [
    "newsdata_body = newsdata['BODY']"
   ]
  },
  {
   "cell_type": "code",
   "execution_count": null,
   "id": "554d31f1-f6e1-4092-ba5e-842e900c5c45",
   "metadata": {},
   "outputs": [],
   "source": []
  }
 ],
 "metadata": {
  "kernelspec": {
   "display_name": "Python 3 (ipykernel)",
   "language": "python",
   "name": "python3"
  },
  "language_info": {
   "codemirror_mode": {
    "name": "ipython",
    "version": 3
   },
   "file_extension": ".py",
   "mimetype": "text/x-python",
   "name": "python",
   "nbconvert_exporter": "python",
   "pygments_lexer": "ipython3",
   "version": "3.11.7"
  }
 },
 "nbformat": 4,
 "nbformat_minor": 5
}
